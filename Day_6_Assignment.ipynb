{
 "cells": [
  {
   "cell_type": "code",
   "execution_count": null,
   "metadata": {},
   "outputs": [],
   "source": [
    "#Assuming that we have some email addresses in the \"username@companyname.com\" format, please write programto print the company name of a given email address. Both user names and company names are composed of lettersonly"
   ]
  },
  {
   "cell_type": "code",
   "execution_count": 8,
   "metadata": {},
   "outputs": [
    {
     "name": "stdout",
     "output_type": "stream",
     "text": [
      "enter Email address : john@google.com\n",
      "Company name :  google\n"
     ]
    }
   ],
   "source": [
    "def comp_name(email):\n",
    "    email=email.replace('.com','')\n",
    "    string= email.split('@')\n",
    "    print ('Company name : ',string[1] )\n",
    "\n",
    "email=input(\"enter Email address : \" )\n",
    "comp_name(email)"
   ]
  },
  {
   "cell_type": "code",
   "execution_count": null,
   "metadata": {},
   "outputs": [],
   "source": [
    "#Write a program that accepts a comma-separated sequence of words as input and prints the words in a commaseparated sequence after sorting them alphabetically."
   ]
  },
  {
   "cell_type": "code",
   "execution_count": 10,
   "metadata": {},
   "outputs": [
    {
     "name": "stdout",
     "output_type": "stream",
     "text": [
      "Enter a comma separated words to sort:without,hello,bag,world\n",
      "Sorted words :  bag,hello,without,world\n"
     ]
    }
   ],
   "source": [
    "def word_sort(string):\n",
    "    temp_str=string.split(',')\n",
    "    temp_str.sort()\n",
    "    string=','.join(temp_str)\n",
    "    print('Sorted words : ',string)\n",
    "\n",
    "string=input ('Enter a comma separated words to sort:')\n",
    "word_sort(string)\n"
   ]
  },
  {
   "cell_type": "code",
   "execution_count": null,
   "metadata": {},
   "outputs": [],
   "source": [
    "#Given a list of n-1 numbers ranging from 1 to n, your task is to find the missing number. There are no duplicates.\n"
   ]
  },
  {
   "cell_type": "code",
   "execution_count": 35,
   "metadata": {},
   "outputs": [
    {
     "name": "stdout",
     "output_type": "stream",
     "text": [
      "enter n-1 numbers with each number separated by a space : \n",
      "1 2 4 6 3 7 8\n",
      "Missing Number : [5]\n"
     ]
    }
   ],
   "source": [
    "def missing_number(temp_num):\n",
    "    max_num=int(max(temp_num))\n",
    "    j=1\n",
    "    missing_num=[]\n",
    "    for i in range(max_num-1):\n",
    "        if j not in temp_num:\n",
    "            missing_num.append(j)\n",
    "        j+=1\n",
    "        \n",
    "    print('Missing Number :',missing_num)\n",
    "\n",
    "\n",
    "num=input('enter n-1 numbers with each number separated by a space : \\n')\n",
    "user_lst=[]\n",
    "for x in num.split(' '):\n",
    "    user_lst.append(int(x))\n",
    "missing_number(user_lst)\n",
    "            "
   ]
  },
  {
   "cell_type": "code",
   "execution_count": null,
   "metadata": {},
   "outputs": [],
   "source": [
    "#With a given list L, write a program to print this list L after removing all duplicate values with original order reserved."
   ]
  },
  {
   "cell_type": "code",
   "execution_count": 45,
   "metadata": {},
   "outputs": [
    {
     "name": "stdout",
     "output_type": "stream",
     "text": [
      "enter n-1 numbers with each number separated by a space : \n",
      "12 24 35 24\n",
      "12 24 35\n"
     ]
    }
   ],
   "source": [
    "def remove_duplicate(num):\n",
    "    num_lst=[]\n",
    "    for i in range(len(num)):\n",
    "        if num[i] not in num_lst:\n",
    "            num_lst.append(num[i])\n",
    "        \n",
    "    print(' '.join(num_lst))\n",
    "        \n",
    "num=input('enter n-1 numbers with each number separated by a space : \\n')\n",
    "num=num.split(' ')\n",
    "remove_duplicate(num)"
   ]
  },
  {
   "cell_type": "code",
   "execution_count": null,
   "metadata": {},
   "outputs": [],
   "source": []
  }
 ],
 "metadata": {
  "kernelspec": {
   "display_name": "Python 3",
   "language": "python",
   "name": "python3"
  },
  "language_info": {
   "codemirror_mode": {
    "name": "ipython",
    "version": 3
   },
   "file_extension": ".py",
   "mimetype": "text/x-python",
   "name": "python",
   "nbconvert_exporter": "python",
   "pygments_lexer": "ipython3",
   "version": "3.6.9"
  }
 },
 "nbformat": 4,
 "nbformat_minor": 4
}
